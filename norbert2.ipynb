{
 "cells": [
  {
   "cell_type": "code",
   "execution_count": 8,
   "metadata": {},
   "outputs": [],
   "source": [
    "\n",
    "def polyarea(x, y):\n",
    "    x_len, y_len = len(x)-1, len(y)-1\n",
    "    if(x_len != y_len):\n",
    "        raise ValueError('x and y must be equal length')\n",
    "    \n",
    "    left_sum = x[x_len]*y[0] \n",
    "    for i in range(0, x_len-1):\n",
    "        left_sum = left_sum + x[i]*y[i+1]\n",
    "    \n",
    "    right_sum = y[y_len]*x[0]\n",
    "    for i in range(0, y_len-1):\n",
    "        right_sum = right_sum + y[i]*x[i+1]\n",
    "        \n",
    "    area = 1/2 * abs(left_sum - right_sum)\n",
    "    \n",
    "    return area\n",
    "\n",
    "import numpy as np\n",
    "def polyarea_np(x, y):\n",
    "    x,y = np.array(x), np.array(y)\n",
    "    return 0.5*np.abs(np.dot(x,np.roll(y,1))-np.dot(y,np.roll(x,1)))\n",
    "    \n",
    "    "
   ]
  },
  {
   "cell_type": "code",
   "execution_count": 9,
   "metadata": {},
   "outputs": [
    {
     "data": {
      "text/plain": [
       "5.0"
      ]
     },
     "execution_count": 9,
     "metadata": {},
     "output_type": "execute_result"
    }
   ],
   "source": [
    "triangle_x = [1, 2, 3]\n",
    "triangle_y = [1, 2, 1]\n",
    "polyarea(triangle_x, triangle_y)\n",
    "\n",
    "quadrangle_x = [1, 1, 4, 4]\n",
    "quadrangle_y = [1, 3, 3, 1]\n",
    "polyarea(quadrangle_x, quadrangle_y)\n",
    "\n",
    "pentagon_x = [1, 1, 4, 4, 2]\n",
    "pentagon_y = [1, 3, 3, 1, -3]\n",
    "polyarea(pentagon_x, pentagon_y)"
   ]
  },
  {
   "cell_type": "code",
   "execution_count": 57,
   "metadata": {},
   "outputs": [],
   "source": [
    "def det(A):\n",
    "    det = (A[0][0] * (A[1][1] * A[2][2] - A[2][1] * A[1][2])\n",
    "           -A[1][0] * (A[0][1] * A[2][2] - A[2][1] * A[0][2])\n",
    "           +A[2][0] * (A[0][1] * A[1][2] - A[1][1] * A[0][2]))\n",
    "    return (det)\n",
    "\n",
    "def det_np(A):\n",
    "    A = np.array(A)\n",
    "    return np.linalg.det(A)"
   ]
  },
  {
   "cell_type": "code",
   "execution_count": 58,
   "metadata": {},
   "outputs": [],
   "source": [
    "A1 = [[1,2,3],[2,3,4],[3,4,5]]\n",
    "A2 = [[2.11, -0.80, 1.72], [-1.84, 3.03, 1.29], [-1.57, 5.25, 4.30]]\n",
    "A3 = [[2,-1,0],[-1,2,-1],[0,-1,2]]\n",
    "A4 = [[4, 3, -1], [7,-2,3], [5, -18, 13]]\n",
    "\n",
    "matrix_list = [A1, A2, A3, A4]"
   ]
  },
  {
   "cell_type": "code",
   "execution_count": 59,
   "metadata": {},
   "outputs": [
    {
     "name": "stdout",
     "output_type": "stream",
     "text": [
      "det_python:  0\n",
      "det_np:  -7.401486830834414e-17\n",
      "\n",
      "\n",
      "det_python:  0.058866999999999337\n",
      "det_np:  0.05886699999999722\n",
      "\n",
      "\n",
      "det_python:  4\n",
      "det_np:  4.0\n",
      "\n",
      "\n",
      "det_python:  0\n",
      "det_np:  6.991232989353864e-14\n",
      "\n",
      "\n"
     ]
    }
   ],
   "source": [
    "for matrix in matrix_list:\n",
    "    print('det_python: ', det(matrix))\n",
    "    print('det_np: ', det_np(matrix))\n",
    "    print('\\n')"
   ]
  },
  {
   "cell_type": "code",
   "execution_count": null,
   "metadata": {},
   "outputs": [],
   "source": []
  },
  {
   "cell_type": "code",
   "execution_count": null,
   "metadata": {},
   "outputs": [],
   "source": []
  }
 ],
 "metadata": {
  "kernelspec": {
   "display_name": "Python 3",
   "language": "python",
   "name": "python3"
  },
  "language_info": {
   "codemirror_mode": {
    "name": "ipython",
    "version": 3
   },
   "file_extension": ".py",
   "mimetype": "text/x-python",
   "name": "python",
   "nbconvert_exporter": "python",
   "pygments_lexer": "ipython3",
   "version": "3.7.4"
  }
 },
 "nbformat": 4,
 "nbformat_minor": 4
}
