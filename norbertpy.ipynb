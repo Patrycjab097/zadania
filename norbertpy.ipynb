{
 "cells": [
  {
   "cell_type": "code",
   "execution_count": 95,
   "id": "1412e32f-fc1b-46cc-85e2-53f50d598f37",
   "metadata": {},
   "outputs": [],
   "source": [
    "from math import floor, ceil, sqrt, pi\n",
    "from random import uniform\n",
    "import matplotlib.pyplot as plt\n",
    "\n",
    "def interpolate_yt(y_series, delta_t, *t):\n",
    "    \n",
    "    results = {}\n",
    "    \n",
    "    for t_ in t:    \n",
    "        x0, x1 = floor(t_ / delta_t), ceil(t_ / delta_t)\n",
    "        if x0 < 0:\n",
    "            raise ValueError('t nie może być ujemne.')\n",
    "        if x1 > (len(y_series)-1):\n",
    "            raise ValueError('podana wartość t wykracza poza dane')\n",
    "        y0, y1 = y_series[x0], y_series[x1]\n",
    "        y = y0 + (y1-y0)/(x1-x0)*(t_-x0)\n",
    "        \n",
    "        results[\"\".join(['t: ',str(t_)])] = round(y, 3) \n",
    "    \n",
    "    return results"
   ]
  },
  {
   "cell_type": "code",
   "execution_count": 96,
   "id": "bb5c4196-a450-4f4a-b5e7-8563ce8d2947",
   "metadata": {},
   "outputs": [
    {
     "data": {
      "text/plain": [
       "{'t: 2.5': 16.25, 't: 3.1': 20.1}"
      ]
     },
     "execution_count": 96,
     "metadata": {},
     "output_type": "execute_result"
    }
   ],
   "source": [
    "pomiary = [4.4, 2.0, 11.0, 21.5, 7.5]\n",
    "t1, t2 = 2.5, 3.1\n",
    "interpolate_yt(pomiary, 1, t1, t2)"
   ]
  },
  {
   "cell_type": "code",
   "execution_count": 97,
   "id": "dc916aba-da1b-4868-a276-a53a53b6cd66",
   "metadata": {},
   "outputs": [],
   "source": [
    "custom_func = lambda x: 4*x + 1\n",
    "def slope_point_test(f, c, x_min, x_max):\n",
    "    \n",
    "    slope_values = []\n",
    "    random_points = [uniform(x_min, x_max) for x in range(0, 100)]\n",
    "    for point in random_points:\n",
    "        slope = (f(point) - f(c)) / (point - c)\n",
    "        slope_values.append(slope)\n",
    "        \n",
    "    # sprawdzenie czy wszystkie wartosci w liscie sa takie same\n",
    "    return len(set(slope_values)) == 1\n",
    "     "
   ]
  },
  {
   "cell_type": "code",
   "execution_count": 103,
   "id": "6a84ef49-101a-47cb-aaa5-e6f35a9ad509",
   "metadata": {},
   "outputs": [
    {
     "data": {
      "text/plain": [
       "False"
      ]
     },
     "execution_count": 103,
     "metadata": {},
     "output_type": "execute_result"
    }
   ],
   "source": [
    "slope_point_test(custom_func, 2, 0, 100)"
   ]
  },
  {
   "cell_type": "code",
   "execution_count": 104,
   "id": "ac9326d5-0495-44c7-b2c4-8d14f52d67ec",
   "metadata": {},
   "outputs": [],
   "source": [
    "def calculate_PI_Leibniz(N):\n",
    "    sum = 0\n",
    "    for k in range(0, N):\n",
    "        sum = sum + pow(-1,k) / (2*k+1)\n",
    "    _PI = 4 * sum\n",
    "    return _PI\n",
    "\n",
    "def calculate_PI_Euler(N):\n",
    "    sum = 0\n",
    "    for k in range(1, N+1):\n",
    "        sum = sum + 1 / pow(k, 2)\n",
    "    _PI = sqrt(6 * sum)\n",
    "    return _PI"
   ]
  },
  {
   "cell_type": "code",
   "execution_count": 105,
   "id": "4407b009-eb17-4a17-a55a-2957ecfd7142",
   "metadata": {},
   "outputs": [
    {
     "data": {
      "text/plain": [
       "<matplotlib.legend.Legend at 0x164c54a6670>"
      ]
     },
     "execution_count": 105,
     "metadata": {},
     "output_type": "execute_result"
    },
    {
     "data": {
      "image/png": "[encoded data removed]",
      "text/plain": [
       "<Figure size 432x288 with 1 Axes>"
      ]
     },
     "metadata": {
      "needs_background": "light"
     },
     "output_type": "display_data"
    }
   ],
   "source": [
    "N = 100\n",
    "leibniz_y = [calculate_PI_Leibniz(x) for x in range(0, N)] \n",
    "euler_y =  [calculate_PI_Euler(x) for x in range(0, N)] \n",
    "\n",
    "plt.plot(x, leibniz_y, label = 'leibniz')\n",
    "plt.plot(x, euler_y, label = 'euler')\n",
    "plt.xlabel('x - axis')\n",
    "plt.ylabel('y - axis')\n",
    "plt.title('PI approximation comparison')\n",
    "plt.legend()\n",
    "\n"
   ]
  },
  {
   "cell_type": "code",
   "execution_count": 94,
   "id": "7a34604e-9257-4315-aa71-f01055a6df53",
   "metadata": {},
   "outputs": [
    {
     "name": "stdout",
     "output_type": "stream",
     "text": [
      "leibniz PI error:  0.010100752481323472 \n",
      "euler PI error:  0.009611906345430743\n"
     ]
    }
   ],
   "source": [
    "print('leibniz PI error: ',abs(leibniz_y[99] - pi), '\\neuler PI error: ', abs(euler_y[99] - pi))"
   ]
  }
 ],
 "metadata": {
  "kernelspec": {
   "display_name": "Python 3",
   "language": "python",
   "name": "python3"
  },
  "language_info": {
   "codemirror_mode": {
    "name": "ipython",
    "version": 3
   },
   "file_extension": ".py",
   "mimetype": "text/x-python",
   "name": "python",
   "nbconvert_exporter": "python",
   "pygments_lexer": "ipython3",
   "version": "3.8.5"
  }
 },
 "nbformat": 4,
 "nbformat_minor": 5
}
